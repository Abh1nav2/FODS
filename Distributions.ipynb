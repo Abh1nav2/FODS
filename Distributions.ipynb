{
  "nbformat": 4,
  "nbformat_minor": 0,
  "metadata": {
    "colab": {
      "provenance": []
    },
    "kernelspec": {
      "name": "python3",
      "display_name": "Python 3"
    },
    "language_info": {
      "name": "python"
    }
  },
  "cells": [
    {
      "cell_type": "code",
      "source": [
        "pop=[0.26,0.74]\n",
        "import numpy as np\n",
        "import numpy.random as npr\n",
        "npr.binomial(100,0.26)"
      ],
      "metadata": {
        "colab": {
          "base_uri": "https://localhost:8080/"
        },
        "id": "IS76hzZll0jZ",
        "outputId": "5813eee1-d5c2-4771-e7a4-2857b3d362b9"
      },
      "execution_count": null,
      "outputs": [
        {
          "output_type": "execute_result",
          "data": {
            "text/plain": [
              "28"
            ]
          },
          "metadata": {},
          "execution_count": 6
        }
      ]
    },
    {
      "cell_type": "code",
      "source": [
        "count=npr.binomial(100,0.26,1000)\n",
        "count"
      ],
      "metadata": {
        "colab": {
          "base_uri": "https://localhost:8080/"
        },
        "id": "eskl5zcEsF_l",
        "outputId": "c997ec7f-84b3-459a-e061-d9b2b769b19f"
      },
      "execution_count": null,
      "outputs": [
        {
          "output_type": "execute_result",
          "data": {
            "text/plain": [
              "array([24, 22, 24, 28, 20, 30, 28, 28, 23, 28, 24, 21, 23, 24, 19, 25, 25,\n",
              "       26, 22, 34, 27, 22, 30, 28, 23, 28, 31, 22, 28, 19, 26, 28, 26, 27,\n",
              "       29, 23, 24, 27, 32, 26, 34, 23, 31, 28, 19, 28, 28, 26, 21, 25, 23,\n",
              "       23, 27, 27, 20, 23, 27, 29, 26, 27, 27, 25, 26, 27, 25, 32, 32, 26,\n",
              "       27, 18, 22, 39, 30, 26, 29, 22, 21, 29, 28, 31, 28, 25, 18, 25, 20,\n",
              "       20, 20, 22, 26, 26, 27, 24, 28, 30, 22, 27, 20, 29, 35, 26, 25, 27,\n",
              "       25, 22, 28, 21, 29, 25, 27, 28, 23, 28, 26, 28, 24, 23, 29, 22, 23,\n",
              "       26, 20, 27, 31, 29, 23, 30, 22, 25, 30, 20, 29, 27, 28, 18, 24, 23,\n",
              "       26, 26, 24, 25, 27, 24, 26, 26, 33, 28, 26, 21, 25, 20, 16, 21, 23,\n",
              "       23, 31, 23, 28, 27, 19, 17, 33, 24, 26, 21, 30, 25, 26, 26, 31, 22,\n",
              "       30, 25, 28, 25, 25, 18, 22, 21, 24, 29, 24, 27, 30, 31, 25, 24, 21,\n",
              "       28, 26, 17, 26, 16, 25, 21, 25, 28, 20, 27, 29, 23, 28, 29, 17, 26,\n",
              "       17, 26, 23, 30, 32, 25, 25, 25, 32, 27, 20, 28, 37, 27, 19, 31, 22,\n",
              "       20, 23, 21, 28, 24, 33, 24, 23, 30, 28, 28, 26, 26, 29, 32, 26, 29,\n",
              "       23, 36, 30, 26, 28, 22, 26, 33, 31, 35, 30, 31, 24, 18, 32, 21, 34,\n",
              "       30, 24, 22, 26, 20, 27, 25, 32, 20, 33, 25, 28, 31, 41, 38, 30, 19,\n",
              "       33, 25, 17, 25, 31, 37, 29, 28, 13, 32, 21, 26, 23, 26, 31, 31, 27,\n",
              "       26, 31, 33, 22, 22, 25, 32, 25, 17, 23, 27, 24, 29, 23, 29, 26, 21,\n",
              "       32, 26, 29, 24, 17, 22, 36, 28, 30, 24, 21, 29, 32, 37, 25, 28, 31,\n",
              "       31, 20, 25, 20, 28, 21, 30, 27, 27, 24, 34, 28, 19, 18, 29, 29, 27,\n",
              "       23, 28, 23, 24, 31, 28, 28, 26, 28, 20, 28, 29, 21, 26, 26, 31, 20,\n",
              "       28, 28, 26, 25, 25, 20, 25, 28, 25, 26, 24, 32, 21, 24, 18, 25, 23,\n",
              "       30, 23, 24, 19, 30, 24, 28, 17, 25, 30, 25, 32, 28, 24, 25, 23, 23,\n",
              "       31, 36, 28, 28, 30, 27, 30, 28, 33, 30, 24, 32, 28, 25, 25, 25, 23,\n",
              "       20, 34, 27, 31, 26, 34, 30, 26, 22, 27, 25, 31, 26, 23, 25, 22, 20,\n",
              "       21, 28, 22, 22, 30, 26, 22, 24, 23, 25, 28, 28, 28, 24, 31, 24, 22,\n",
              "       32, 20, 30, 23, 26, 33, 27, 32, 25, 25, 29, 25, 20, 31, 21, 28, 22,\n",
              "       25, 23, 34, 30, 28, 23, 26, 28, 23, 25, 33, 24, 28, 19, 20, 29, 28,\n",
              "       30, 23, 28, 26, 26, 27, 27, 32, 21, 22, 35, 27, 27, 37, 25, 27, 32,\n",
              "       20, 28, 31, 22, 28, 31, 18, 25, 37, 30, 21, 23, 26, 23, 24, 28, 20,\n",
              "       20, 24, 24, 29, 29, 27, 20, 25, 26, 29, 27, 30, 25, 19, 32, 31, 29,\n",
              "       28, 26, 21, 22, 21, 24, 25, 26, 25, 24, 31, 24, 27, 22, 22, 26, 27,\n",
              "       27, 27, 27, 25, 26, 33, 25, 26, 27, 26, 25, 25, 25, 26, 28, 30, 22,\n",
              "       22, 31, 29, 28, 23, 26, 23, 21, 19, 27, 26, 24, 24, 29, 19, 31, 27,\n",
              "       29, 27, 20, 25, 19, 33, 26, 25, 26, 22, 27, 30, 26, 24, 21, 18, 26,\n",
              "       28, 28, 26, 29, 25, 27, 29, 29, 21, 30, 35, 30, 26, 24, 22, 34, 25,\n",
              "       23, 26, 30, 18, 22, 21, 27, 29, 39, 24, 23, 28, 28, 29, 22, 21, 22,\n",
              "       25, 27, 25, 32, 24, 19, 28, 19, 25, 31, 27, 28, 31, 28, 24, 33, 28,\n",
              "       27, 28, 28, 26, 28, 33, 24, 35, 32, 25, 24, 21, 24, 22, 23, 22, 26,\n",
              "       26, 27, 20, 27, 22, 21, 28, 24, 28, 24, 28, 27, 20, 30, 35, 27, 22,\n",
              "       20, 31, 23, 32, 18, 21, 33, 28, 33, 25, 18, 30, 30, 26, 31, 30, 35,\n",
              "       27, 17, 20, 30, 20, 17, 23, 23, 24, 21, 26, 23, 28, 31, 29, 33, 25,\n",
              "       34, 25, 25, 33, 27, 27, 24, 17, 28, 21, 34, 36, 26, 21, 27, 28, 31,\n",
              "       28, 25, 32, 20, 29, 26, 29, 27, 24, 24, 26, 32, 27, 35, 23, 27, 24,\n",
              "       30, 30, 25, 22, 35, 31, 29, 24, 26, 31, 25, 29, 28, 22, 25, 27, 22,\n",
              "       22, 25, 24, 17, 23, 26, 30, 28, 24, 27, 19, 23, 28, 27, 28, 27, 23,\n",
              "       28, 25, 32, 24, 16, 27, 28, 25, 27, 32, 25, 28, 27, 20, 24, 22, 24,\n",
              "       21, 24, 22, 24, 28, 30, 32, 17, 22, 27, 16, 35, 24, 19, 34, 32, 23,\n",
              "       21, 24, 24, 19, 29, 22, 25, 30, 31, 35, 23, 21, 34, 25, 25, 25, 22,\n",
              "       29, 27, 32, 30, 23, 28, 21, 23, 32, 28, 32, 33, 20, 26, 29, 22, 28,\n",
              "       24, 27, 27, 27, 25, 23, 34, 22, 28, 23, 25, 22, 20, 32, 22, 27, 24,\n",
              "       26, 23, 27, 27, 24, 23, 30, 17, 28, 28, 28, 26, 22, 27, 25, 25, 29,\n",
              "       25, 29, 27, 28, 19, 23, 25, 14, 21, 31, 31, 34, 23, 22, 21, 26, 30,\n",
              "       21, 23, 29, 22, 33, 28, 28, 27, 27, 24, 24, 32, 35, 28, 22, 32, 22,\n",
              "       32, 31, 24, 26, 24, 20, 23, 28, 25, 20, 21, 23, 24, 28, 21, 23, 35,\n",
              "       26, 25, 27, 31, 23, 28, 20, 41, 26, 31, 19, 18, 22, 27, 21, 25, 27,\n",
              "       24, 28, 28, 27, 24, 24, 32, 30, 32, 32, 24, 26, 19, 21, 22, 26, 25,\n",
              "       28, 24, 23, 22, 22, 25, 23, 21, 22, 31, 33, 20, 20, 27, 22, 26, 14,\n",
              "       23, 27, 30, 27, 25, 31, 31, 29, 20, 21, 27, 23, 34, 21])"
            ]
          },
          "metadata": {},
          "execution_count": 27
        }
      ]
    },
    {
      "cell_type": "code",
      "source": [
        "import pandas as pd"
      ],
      "metadata": {
        "id": "v7HIn5AKsOwx"
      },
      "execution_count": null,
      "outputs": []
    },
    {
      "cell_type": "code",
      "source": [
        "panel=pd.DataFrame(count)\n",
        "panel"
      ],
      "metadata": {
        "colab": {
          "base_uri": "https://localhost:8080/",
          "height": 424
        },
        "id": "Mcx_sRUrsNJB",
        "outputId": "dc5096f4-b9c8-4e54-b0fc-056902a1a627"
      },
      "execution_count": null,
      "outputs": [
        {
          "output_type": "execute_result",
          "data": {
            "text/plain": [
              "      0\n",
              "0    24\n",
              "1    22\n",
              "2    24\n",
              "3    28\n",
              "4    20\n",
              "..   ..\n",
              "995  21\n",
              "996  27\n",
              "997  23\n",
              "998  34\n",
              "999  21\n",
              "\n",
              "[1000 rows x 1 columns]"
            ],
            "text/html": [
              "\n",
              "  <div id=\"df-fb3b2ba8-1162-4a4c-9357-58ab33a9da5d\">\n",
              "    <div class=\"colab-df-container\">\n",
              "      <div>\n",
              "<style scoped>\n",
              "    .dataframe tbody tr th:only-of-type {\n",
              "        vertical-align: middle;\n",
              "    }\n",
              "\n",
              "    .dataframe tbody tr th {\n",
              "        vertical-align: top;\n",
              "    }\n",
              "\n",
              "    .dataframe thead th {\n",
              "        text-align: right;\n",
              "    }\n",
              "</style>\n",
              "<table border=\"1\" class=\"dataframe\">\n",
              "  <thead>\n",
              "    <tr style=\"text-align: right;\">\n",
              "      <th></th>\n",
              "      <th>0</th>\n",
              "    </tr>\n",
              "  </thead>\n",
              "  <tbody>\n",
              "    <tr>\n",
              "      <th>0</th>\n",
              "      <td>24</td>\n",
              "    </tr>\n",
              "    <tr>\n",
              "      <th>1</th>\n",
              "      <td>22</td>\n",
              "    </tr>\n",
              "    <tr>\n",
              "      <th>2</th>\n",
              "      <td>24</td>\n",
              "    </tr>\n",
              "    <tr>\n",
              "      <th>3</th>\n",
              "      <td>28</td>\n",
              "    </tr>\n",
              "    <tr>\n",
              "      <th>4</th>\n",
              "      <td>20</td>\n",
              "    </tr>\n",
              "    <tr>\n",
              "      <th>...</th>\n",
              "      <td>...</td>\n",
              "    </tr>\n",
              "    <tr>\n",
              "      <th>995</th>\n",
              "      <td>21</td>\n",
              "    </tr>\n",
              "    <tr>\n",
              "      <th>996</th>\n",
              "      <td>27</td>\n",
              "    </tr>\n",
              "    <tr>\n",
              "      <th>997</th>\n",
              "      <td>23</td>\n",
              "    </tr>\n",
              "    <tr>\n",
              "      <th>998</th>\n",
              "      <td>34</td>\n",
              "    </tr>\n",
              "    <tr>\n",
              "      <th>999</th>\n",
              "      <td>21</td>\n",
              "    </tr>\n",
              "  </tbody>\n",
              "</table>\n",
              "<p>1000 rows × 1 columns</p>\n",
              "</div>\n",
              "      <button class=\"colab-df-convert\" onclick=\"convertToInteractive('df-fb3b2ba8-1162-4a4c-9357-58ab33a9da5d')\"\n",
              "              title=\"Convert this dataframe to an interactive table.\"\n",
              "              style=\"display:none;\">\n",
              "        \n",
              "  <svg xmlns=\"http://www.w3.org/2000/svg\" height=\"24px\"viewBox=\"0 0 24 24\"\n",
              "       width=\"24px\">\n",
              "    <path d=\"M0 0h24v24H0V0z\" fill=\"none\"/>\n",
              "    <path d=\"M18.56 5.44l.94 2.06.94-2.06 2.06-.94-2.06-.94-.94-2.06-.94 2.06-2.06.94zm-11 1L8.5 8.5l.94-2.06 2.06-.94-2.06-.94L8.5 2.5l-.94 2.06-2.06.94zm10 10l.94 2.06.94-2.06 2.06-.94-2.06-.94-.94-2.06-.94 2.06-2.06.94z\"/><path d=\"M17.41 7.96l-1.37-1.37c-.4-.4-.92-.59-1.43-.59-.52 0-1.04.2-1.43.59L10.3 9.45l-7.72 7.72c-.78.78-.78 2.05 0 2.83L4 21.41c.39.39.9.59 1.41.59.51 0 1.02-.2 1.41-.59l7.78-7.78 2.81-2.81c.8-.78.8-2.07 0-2.86zM5.41 20L4 18.59l7.72-7.72 1.47 1.35L5.41 20z\"/>\n",
              "  </svg>\n",
              "      </button>\n",
              "      \n",
              "  <style>\n",
              "    .colab-df-container {\n",
              "      display:flex;\n",
              "      flex-wrap:wrap;\n",
              "      gap: 12px;\n",
              "    }\n",
              "\n",
              "    .colab-df-convert {\n",
              "      background-color: #E8F0FE;\n",
              "      border: none;\n",
              "      border-radius: 50%;\n",
              "      cursor: pointer;\n",
              "      display: none;\n",
              "      fill: #1967D2;\n",
              "      height: 32px;\n",
              "      padding: 0 0 0 0;\n",
              "      width: 32px;\n",
              "    }\n",
              "\n",
              "    .colab-df-convert:hover {\n",
              "      background-color: #E2EBFA;\n",
              "      box-shadow: 0px 1px 2px rgba(60, 64, 67, 0.3), 0px 1px 3px 1px rgba(60, 64, 67, 0.15);\n",
              "      fill: #174EA6;\n",
              "    }\n",
              "\n",
              "    [theme=dark] .colab-df-convert {\n",
              "      background-color: #3B4455;\n",
              "      fill: #D2E3FC;\n",
              "    }\n",
              "\n",
              "    [theme=dark] .colab-df-convert:hover {\n",
              "      background-color: #434B5C;\n",
              "      box-shadow: 0px 1px 3px 1px rgba(0, 0, 0, 0.15);\n",
              "      filter: drop-shadow(0px 1px 2px rgba(0, 0, 0, 0.3));\n",
              "      fill: #FFFFFF;\n",
              "    }\n",
              "  </style>\n",
              "\n",
              "      <script>\n",
              "        const buttonEl =\n",
              "          document.querySelector('#df-fb3b2ba8-1162-4a4c-9357-58ab33a9da5d button.colab-df-convert');\n",
              "        buttonEl.style.display =\n",
              "          google.colab.kernel.accessAllowed ? 'block' : 'none';\n",
              "\n",
              "        async function convertToInteractive(key) {\n",
              "          const element = document.querySelector('#df-fb3b2ba8-1162-4a4c-9357-58ab33a9da5d');\n",
              "          const dataTable =\n",
              "            await google.colab.kernel.invokeFunction('convertToInteractive',\n",
              "                                                     [key], {});\n",
              "          if (!dataTable) return;\n",
              "\n",
              "          const docLinkHtml = 'Like what you see? Visit the ' +\n",
              "            '<a target=\"_blank\" href=https://colab.research.google.com/notebooks/data_table.ipynb>data table notebook</a>'\n",
              "            + ' to learn more about interactive tables.';\n",
              "          element.innerHTML = '';\n",
              "          dataTable['output_type'] = 'display_data';\n",
              "          await google.colab.output.renderOutput(dataTable, element);\n",
              "          const docLink = document.createElement('div');\n",
              "          docLink.innerHTML = docLinkHtml;\n",
              "          element.appendChild(docLink);\n",
              "        }\n",
              "      </script>\n",
              "    </div>\n",
              "  </div>\n",
              "  "
            ]
          },
          "metadata": {},
          "execution_count": 30
        }
      ]
    },
    {
      "cell_type": "code",
      "source": [
        "import matplotlib.pyplot as plt"
      ],
      "metadata": {
        "id": "U6c9B_CMspB-"
      },
      "execution_count": null,
      "outputs": []
    },
    {
      "cell_type": "code",
      "source": [
        "plt.figure(figsize=(7,7))\n",
        "panel.hist()\n",
        "plt.scatter(8,0,color='red',s=30)\n",
        "plt.tight_layout()"
      ],
      "metadata": {
        "colab": {
          "base_uri": "https://localhost:8080/",
          "height": 314
        },
        "id": "thD1eSd-sxLn",
        "outputId": "7aabc150-6bd6-4376-dd8c-26fbcc1232b7"
      },
      "execution_count": null,
      "outputs": [
        {
          "output_type": "display_data",
          "data": {
            "text/plain": [
              "<Figure size 504x504 with 0 Axes>"
            ]
          },
          "metadata": {}
        },
        {
          "output_type": "display_data",
          "data": {
            "text/plain": [
              "<Figure size 432x288 with 1 Axes>"
            ],
            "image/png": "[encoded data removed]"
          },
          "metadata": {
            "needs_background": "light"
          }
        }
      ]
    },
    {
      "cell_type": "code",
      "source": [
        "sims=1000\n",
        "count=npr.binomial(100,0.26,sims)\n",
        "count"
      ],
      "metadata": {
        "colab": {
          "base_uri": "https://localhost:8080/"
        },
        "id": "Vf394hQHqVqQ",
        "outputId": "0d1befdb-59a9-4fe3-af09-94abdba4f567"
      },
      "execution_count": null,
      "outputs": [
        {
          "output_type": "execute_result",
          "data": {
            "text/plain": [
              "array([23, 26, 24, 26, 28, 29, 28, 18, 24, 31, 20, 22, 23, 32, 32, 19, 22,\n",
              "       30, 18, 26, 24, 25, 24, 29, 19, 29, 32, 20, 23, 23, 33, 32, 25, 22,\n",
              "       22, 23, 27, 25, 21, 30, 28, 32, 33, 22, 29, 31, 28, 27, 26, 33, 33,\n",
              "       28, 25, 27, 28, 22, 30, 28, 30, 25, 24, 32, 27, 21, 21, 20, 28, 36,\n",
              "       27, 30, 18, 26, 15, 28, 28, 26, 29, 29, 23, 22, 32, 23, 28, 25, 28,\n",
              "       21, 29, 26, 19, 22, 28, 32, 28, 29, 24, 17, 23, 31, 26, 24, 23, 24,\n",
              "       26, 20, 28, 21, 19, 32, 23, 24, 27, 22, 27, 25, 27, 21, 26, 25, 26,\n",
              "       23, 19, 24, 28, 25, 29, 27, 17, 30, 26, 25, 27, 27, 27, 30, 23, 30,\n",
              "       28, 23, 29, 31, 23, 38, 23, 17, 32, 26, 28, 24, 22, 22, 22, 24, 27,\n",
              "       31, 32, 25, 20, 15, 17, 19, 34, 23, 26, 28, 27, 15, 30, 30, 28, 18,\n",
              "       24, 27, 24, 32, 28, 24, 22, 28, 32, 32, 37, 24, 26, 30, 29, 24, 33,\n",
              "       24, 18, 25, 25, 25, 20, 21, 31, 26, 31, 28, 28, 26, 27, 26, 28, 23,\n",
              "       22, 25, 31, 31, 26, 32, 32, 26, 25, 29, 26, 24, 20, 18, 25, 28, 25,\n",
              "       32, 28, 26, 29, 31, 28, 25, 32, 29, 26, 24, 29, 26, 29, 17, 29, 20,\n",
              "       28, 23, 27, 26, 29, 25, 26, 30, 29, 25, 38, 34, 20, 28, 25, 35, 25,\n",
              "       29, 26, 23, 28, 30, 30, 22, 29, 26, 24, 17, 29, 25, 28, 27, 30, 18,\n",
              "       28, 28, 17, 27, 36, 31, 22, 25, 27, 28, 27, 27, 30, 24, 27, 29, 23,\n",
              "       26, 34, 32, 24, 21, 26, 31, 23, 34, 25, 27, 27, 36, 27, 25, 30, 32,\n",
              "       28, 30, 24, 28, 26, 25, 29, 27, 27, 24, 31, 22, 23, 26, 29, 30, 34,\n",
              "       31, 30, 32, 19, 30, 22, 17, 28, 28, 22, 23, 26, 28, 25, 17, 23, 29,\n",
              "       19, 31, 23, 21, 25, 25, 24, 25, 27, 34, 21, 29, 28, 21, 31, 26, 24,\n",
              "       24, 24, 27, 25, 26, 22, 28, 30, 26, 24, 34, 30, 24, 30, 25, 27, 29,\n",
              "       30, 30, 19, 29, 28, 27, 32, 26, 23, 22, 33, 22, 34, 27, 25, 27, 20,\n",
              "       23, 22, 25, 18, 21, 27, 25, 29, 25, 30, 22, 26, 24, 18, 28, 25, 28,\n",
              "       30, 27, 28, 26, 20, 25, 25, 28, 29, 22, 29, 32, 33, 25, 34, 18, 25,\n",
              "       21, 24, 29, 26, 24, 16, 36, 30, 23, 31, 25, 22, 22, 25, 23, 32, 29,\n",
              "       24, 25, 19, 31, 22, 24, 25, 24, 30, 26, 24, 26, 23, 25, 30, 25, 34,\n",
              "       17, 27, 21, 20, 33, 25, 27, 21, 18, 36, 24, 30, 27, 26, 30, 25, 24,\n",
              "       24, 29, 22, 25, 23, 23, 27, 34, 23, 23, 29, 25, 24, 27, 20, 26, 22,\n",
              "       21, 31, 29, 29, 24, 33, 32, 31, 28, 21, 30, 30, 30, 23, 30, 24, 23,\n",
              "       15, 37, 31, 25, 28, 26, 18, 21, 22, 28, 26, 24, 27, 31, 27, 35, 29,\n",
              "       25, 20, 22, 21, 26, 27, 31, 28, 26, 23, 24, 23, 23, 25, 33, 27, 32,\n",
              "       18, 20, 25, 30, 19, 28, 24, 41, 22, 28, 26, 30, 22, 32, 30, 20, 29,\n",
              "       20, 28, 27, 23, 31, 31, 29, 23, 31, 27, 36, 30, 29, 29, 26, 27, 19,\n",
              "       25, 21, 26, 31, 25, 30, 24, 25, 30, 28, 22, 31, 27, 25, 16, 21, 36,\n",
              "       21, 31, 20, 26, 31, 34, 26, 24, 23, 26, 22, 34, 29, 17, 27, 25, 29,\n",
              "       23, 30, 22, 22, 24, 25, 28, 32, 28, 32, 21, 31, 25, 23, 27, 23, 26,\n",
              "       27, 33, 25, 26, 19, 23, 18, 24, 25, 32, 27, 23, 23, 22, 26, 21, 27,\n",
              "       26, 20, 19, 31, 32, 22, 29, 27, 26, 22, 18, 26, 26, 17, 31, 27, 27,\n",
              "       27, 28, 18, 28, 29, 30, 27, 25, 26, 26, 22, 21, 31, 34, 33, 23, 22,\n",
              "       26, 26, 30, 19, 32, 26, 27, 30, 20, 26, 24, 20, 33, 20, 32, 26, 22,\n",
              "       28, 32, 30, 28, 26, 32, 26, 21, 23, 25, 22, 27, 22, 26, 30, 32, 22,\n",
              "       22, 18, 22, 32, 25, 20, 29, 22, 28, 31, 33, 27, 27, 22, 28, 17, 30,\n",
              "       36, 26, 27, 32, 26, 24, 17, 28, 23, 25, 26, 29, 32, 30, 24, 24, 25,\n",
              "       25, 22, 27, 18, 30, 22, 31, 26, 24, 19, 41, 31, 30, 33, 28, 26, 23,\n",
              "       30, 26, 21, 25, 34, 29, 16, 21, 29, 31, 31, 27, 33, 35, 29, 27, 18,\n",
              "       33, 23, 22, 21, 27, 18, 22, 25, 23, 23, 26, 28, 27, 30, 26, 25, 27,\n",
              "       23, 23, 23, 25, 27, 20, 29, 32, 28, 24, 21, 29, 23, 33, 26, 28, 23,\n",
              "       22, 20, 26, 24, 26, 19, 25, 24, 27, 23, 27, 31, 29, 26, 31, 31, 29,\n",
              "       29, 30, 26, 25, 28, 23, 25, 24, 30, 25, 30, 29, 28, 29, 29, 24, 24,\n",
              "       28, 34, 30, 21, 21, 24, 32, 31, 26, 23, 30, 32, 26, 24, 23, 26, 23,\n",
              "       31, 32, 28, 31, 26, 20, 33, 26, 25, 22, 25, 26, 32, 27, 24, 26, 27,\n",
              "       29, 31, 36, 22, 17, 27, 26, 25, 22, 27, 26, 25, 30, 27, 28, 22, 29,\n",
              "       31, 26, 24, 26, 30, 16, 25, 31, 26, 27, 19, 27, 26, 23, 29, 23, 27,\n",
              "       27, 28, 32, 26, 29, 34, 28, 30, 17, 21, 31, 26, 24, 34, 29, 27, 22,\n",
              "       27, 26, 24, 31, 25, 31, 22, 29, 34, 21, 23, 19, 25, 30, 22, 29, 34,\n",
              "       26, 23, 21, 31, 27, 30, 24, 26, 31, 29, 24, 26, 25, 26, 23, 17, 29,\n",
              "       28, 28, 22, 22, 26, 29, 39, 31, 26, 31, 23, 24, 27, 27, 24, 28, 21,\n",
              "       26, 30, 27, 28, 29, 26, 22, 31, 24, 23, 24, 27, 36, 26])"
            ]
          },
          "metadata": {},
          "execution_count": 26
        }
      ]
    },
    {
      "cell_type": "code",
      "source": [
        "sims=10\n",
        "for i in np.arange(sims):\n",
        "  count=npr.binomial(100,0.26,sims)\n",
        "print(count)"
      ],
      "metadata": {
        "colab": {
          "base_uri": "https://localhost:8080/"
        },
        "id": "KnuQTy_wq4Et",
        "outputId": "3a00a007-ac24-4753-97bf-c6e503b046b4"
      },
      "execution_count": null,
      "outputs": [
        {
          "output_type": "stream",
          "name": "stdout",
          "text": [
            "[33 25 28 32 20 27 30 24 27 25]\n"
          ]
        }
      ]
    }
  ]
}